{
 "cells": [
  {
   "cell_type": "markdown",
   "id": "68112ede",
   "metadata": {},
   "source": [
    "# INFORME MACHINE LEARNING\n",
    "\n",
    "JUAN SEBASTIAN GOMEZ MEZU\n",
    "JUAN CAMILO FLOREZ RIVERA\n",
    "EDWIN LEONARDO CUARAN CUARAN "
   ]
  },
  {
   "cell_type": "code",
   "execution_count": 1,
   "id": "d027c093",
   "metadata": {},
   "outputs": [],
   "source": [
    "import numpy as np\n",
    "import pandas as pd\n",
    "import sklearn\n",
    "import warnings"
   ]
  },
  {
   "cell_type": "markdown",
   "id": "a3fa52cc",
   "metadata": {},
   "source": [
    "# carga de los datos del csv games.csv"
   ]
  },
  {
   "cell_type": "code",
   "execution_count": 9,
   "id": "5b44f24d",
   "metadata": {},
   "outputs": [],
   "source": [
    "datos = pd.read_csv('games.csv', sep=';')\n",
    "datos.columns = [\n",
    "    \"gameDuration\",\n",
    "    \"firstBlood\",\n",
    "    \"firstTower\",\n",
    "    \"firstInhibitor\",\n",
    "    \"firstBaron\",\n",
    "    \"firstDragon\",\n",
    "    \"firstRiftHerald\",\n",
    "    \"t1_towerKills\",\n",
    "    \"t1_inhibitorKills\",\n",
    "    \"t1_baronKills\",\n",
    "    \"t1_dragonKills\",\n",
    "    \"t1_riftHeraldKills\",\n",
    "    \"t2_towerKills\",\n",
    "    \"t2_inhibitorKills\",\n",
    "    \"t2_baronKills\",\n",
    "    \"t2_dragonKills\",\n",
    "    \"t2_riftHeraldKills\",\n",
    "    \"winner\"\n",
    "    \n",
    "]\n"
   ]
  },
  {
   "cell_type": "code",
   "execution_count": 10,
   "id": "eff8ce16",
   "metadata": {},
   "outputs": [
    {
     "name": "stdout",
     "output_type": "stream",
     "text": [
      "<class 'pandas.core.frame.DataFrame'>\n",
      "RangeIndex: 50286 entries, 0 to 50285\n",
      "Data columns (total 18 columns):\n",
      " #   Column              Non-Null Count  Dtype\n",
      "---  ------              --------------  -----\n",
      " 0   gameDuration        50286 non-null  int64\n",
      " 1   firstBlood          50286 non-null  int64\n",
      " 2   firstTower          50286 non-null  int64\n",
      " 3   firstInhibitor      50286 non-null  int64\n",
      " 4   firstBaron          50286 non-null  int64\n",
      " 5   firstDragon         50286 non-null  int64\n",
      " 6   firstRiftHerald     50286 non-null  int64\n",
      " 7   t1_towerKills       50286 non-null  int64\n",
      " 8   t1_inhibitorKills   50286 non-null  int64\n",
      " 9   t1_baronKills       50286 non-null  int64\n",
      " 10  t1_dragonKills      50286 non-null  int64\n",
      " 11  t1_riftHeraldKills  50286 non-null  int64\n",
      " 12  t2_towerKills       50286 non-null  int64\n",
      " 13  t2_inhibitorKills   50286 non-null  int64\n",
      " 14  t2_baronKills       50286 non-null  int64\n",
      " 15  t2_dragonKills      50286 non-null  int64\n",
      " 16  t2_riftHeraldKills  50286 non-null  int64\n",
      " 17  winner              50286 non-null  int64\n",
      "dtypes: int64(18)\n",
      "memory usage: 6.9 MB\n"
     ]
    }
   ],
   "source": [
    "datos.info()"
   ]
  },
  {
   "cell_type": "code",
   "execution_count": null,
   "id": "d63626cd",
   "metadata": {},
   "outputs": [],
   "source": []
  }
 ],
 "metadata": {
  "kernelspec": {
   "display_name": "Python 3 (ipykernel)",
   "language": "python",
   "name": "python3"
  },
  "language_info": {
   "codemirror_mode": {
    "name": "ipython",
    "version": 3
   },
   "file_extension": ".py",
   "mimetype": "text/x-python",
   "name": "python",
   "nbconvert_exporter": "python",
   "pygments_lexer": "ipython3",
   "version": "3.9.12"
  }
 },
 "nbformat": 4,
 "nbformat_minor": 5
}
